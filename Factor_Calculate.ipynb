{
 "cells": [
  {
   "cell_type": "markdown",
   "metadata": {},
   "source": [
    "# 因子计算\n",
    "1. 利用商品期货1min数据进行高频数据低频化，得到日频因子，预测t+1开盘到t+2开盘的收益;\n",
    "2. 原始数据已经分品种经过换月处理，并且合约只做主力合约;\n",
    "3. 因子的参考主要来源是券商金工研报;\n",
    "4. 此Jupyter Notebook仅计算因子，计算好因子后统一进行因子测试。"
   ]
  },
  {
   "cell_type": "code",
   "execution_count": 2,
   "metadata": {},
   "outputs": [],
   "source": [
    "import os\n",
    "import pandas as pd \n",
    "import numpy as np\n",
    "import matplotlib.pyplot as plt\n",
    "import warnings\n",
    "\n",
    "warnings.filterwarnings('ignore')"
   ]
  },
  {
   "cell_type": "markdown",
   "metadata": {},
   "source": [
    "## 加载数据"
   ]
  },
  {
   "cell_type": "code",
   "execution_count": 3,
   "metadata": {},
   "outputs": [
    {
     "data": {
      "text/html": [
       "<div>\n",
       "<style scoped>\n",
       "    .dataframe tbody tr th:only-of-type {\n",
       "        vertical-align: middle;\n",
       "    }\n",
       "\n",
       "    .dataframe tbody tr th {\n",
       "        vertical-align: top;\n",
       "    }\n",
       "\n",
       "    .dataframe thead th {\n",
       "        text-align: right;\n",
       "    }\n",
       "</style>\n",
       "<table border=\"1\" class=\"dataframe\">\n",
       "  <thead>\n",
       "    <tr style=\"text-align: right;\">\n",
       "      <th></th>\n",
       "      <th>order_book_id</th>\n",
       "      <th>datetime</th>\n",
       "      <th>open</th>\n",
       "      <th>high</th>\n",
       "      <th>low</th>\n",
       "      <th>close</th>\n",
       "      <th>volume</th>\n",
       "      <th>open_interest</th>\n",
       "      <th>trading_date</th>\n",
       "      <th>future</th>\n",
       "      <th>session</th>\n",
       "    </tr>\n",
       "  </thead>\n",
       "  <tbody>\n",
       "    <tr>\n",
       "      <th>0</th>\n",
       "      <td>V1405</td>\n",
       "      <td>2014-01-06 09:01:00</td>\n",
       "      <td>6375.0</td>\n",
       "      <td>6375.0</td>\n",
       "      <td>6370.0</td>\n",
       "      <td>6375.0</td>\n",
       "      <td>100.0</td>\n",
       "      <td>29968.0</td>\n",
       "      <td>2014-01-06</td>\n",
       "      <td>V</td>\n",
       "      <td>Day</td>\n",
       "    </tr>\n",
       "    <tr>\n",
       "      <th>1</th>\n",
       "      <td>V1405</td>\n",
       "      <td>2014-01-06 09:02:00</td>\n",
       "      <td>6380.0</td>\n",
       "      <td>6380.0</td>\n",
       "      <td>6375.0</td>\n",
       "      <td>6375.0</td>\n",
       "      <td>58.0</td>\n",
       "      <td>29982.0</td>\n",
       "      <td>2014-01-06</td>\n",
       "      <td>V</td>\n",
       "      <td>Day</td>\n",
       "    </tr>\n",
       "    <tr>\n",
       "      <th>2</th>\n",
       "      <td>V1405</td>\n",
       "      <td>2014-01-06 09:03:00</td>\n",
       "      <td>6375.0</td>\n",
       "      <td>6380.0</td>\n",
       "      <td>6375.0</td>\n",
       "      <td>6380.0</td>\n",
       "      <td>10.0</td>\n",
       "      <td>29982.0</td>\n",
       "      <td>2014-01-06</td>\n",
       "      <td>V</td>\n",
       "      <td>Day</td>\n",
       "    </tr>\n",
       "    <tr>\n",
       "      <th>3</th>\n",
       "      <td>V1405</td>\n",
       "      <td>2014-01-06 09:04:00</td>\n",
       "      <td>6380.0</td>\n",
       "      <td>6380.0</td>\n",
       "      <td>6375.0</td>\n",
       "      <td>6375.0</td>\n",
       "      <td>40.0</td>\n",
       "      <td>30012.0</td>\n",
       "      <td>2014-01-06</td>\n",
       "      <td>V</td>\n",
       "      <td>Day</td>\n",
       "    </tr>\n",
       "    <tr>\n",
       "      <th>4</th>\n",
       "      <td>V1405</td>\n",
       "      <td>2014-01-06 09:05:00</td>\n",
       "      <td>6375.0</td>\n",
       "      <td>6375.0</td>\n",
       "      <td>6375.0</td>\n",
       "      <td>6375.0</td>\n",
       "      <td>10.0</td>\n",
       "      <td>30016.0</td>\n",
       "      <td>2014-01-06</td>\n",
       "      <td>V</td>\n",
       "      <td>Day</td>\n",
       "    </tr>\n",
       "    <tr>\n",
       "      <th>...</th>\n",
       "      <td>...</td>\n",
       "      <td>...</td>\n",
       "      <td>...</td>\n",
       "      <td>...</td>\n",
       "      <td>...</td>\n",
       "      <td>...</td>\n",
       "      <td>...</td>\n",
       "      <td>...</td>\n",
       "      <td>...</td>\n",
       "      <td>...</td>\n",
       "      <td>...</td>\n",
       "    </tr>\n",
       "    <tr>\n",
       "      <th>30032740</th>\n",
       "      <td>M2305</td>\n",
       "      <td>2022-12-30 14:56:00</td>\n",
       "      <td>3931.0</td>\n",
       "      <td>3934.0</td>\n",
       "      <td>3930.0</td>\n",
       "      <td>3930.0</td>\n",
       "      <td>5741.0</td>\n",
       "      <td>1349591.0</td>\n",
       "      <td>2022-12-30</td>\n",
       "      <td>M</td>\n",
       "      <td>Day</td>\n",
       "    </tr>\n",
       "    <tr>\n",
       "      <th>30032741</th>\n",
       "      <td>M2305</td>\n",
       "      <td>2022-12-30 14:57:00</td>\n",
       "      <td>3930.0</td>\n",
       "      <td>3934.0</td>\n",
       "      <td>3930.0</td>\n",
       "      <td>3933.0</td>\n",
       "      <td>3478.0</td>\n",
       "      <td>1349378.0</td>\n",
       "      <td>2022-12-30</td>\n",
       "      <td>M</td>\n",
       "      <td>Day</td>\n",
       "    </tr>\n",
       "    <tr>\n",
       "      <th>30032742</th>\n",
       "      <td>M2305</td>\n",
       "      <td>2022-12-30 14:58:00</td>\n",
       "      <td>3932.0</td>\n",
       "      <td>3938.0</td>\n",
       "      <td>3932.0</td>\n",
       "      <td>3936.0</td>\n",
       "      <td>4894.0</td>\n",
       "      <td>1348904.0</td>\n",
       "      <td>2022-12-30</td>\n",
       "      <td>M</td>\n",
       "      <td>Day</td>\n",
       "    </tr>\n",
       "    <tr>\n",
       "      <th>30032743</th>\n",
       "      <td>M2305</td>\n",
       "      <td>2022-12-30 14:59:00</td>\n",
       "      <td>3937.0</td>\n",
       "      <td>3938.0</td>\n",
       "      <td>3932.0</td>\n",
       "      <td>3933.0</td>\n",
       "      <td>6123.0</td>\n",
       "      <td>1348085.0</td>\n",
       "      <td>2022-12-30</td>\n",
       "      <td>M</td>\n",
       "      <td>Day</td>\n",
       "    </tr>\n",
       "    <tr>\n",
       "      <th>30032744</th>\n",
       "      <td>M2305</td>\n",
       "      <td>2022-12-30 15:00:00</td>\n",
       "      <td>3933.0</td>\n",
       "      <td>3940.0</td>\n",
       "      <td>3933.0</td>\n",
       "      <td>3936.0</td>\n",
       "      <td>6815.0</td>\n",
       "      <td>1348032.0</td>\n",
       "      <td>2022-12-30</td>\n",
       "      <td>M</td>\n",
       "      <td>Day</td>\n",
       "    </tr>\n",
       "  </tbody>\n",
       "</table>\n",
       "<p>30032745 rows × 11 columns</p>\n",
       "</div>"
      ],
      "text/plain": [
       "         order_book_id             datetime    open    high     low   close  \\\n",
       "0                V1405  2014-01-06 09:01:00  6375.0  6375.0  6370.0  6375.0   \n",
       "1                V1405  2014-01-06 09:02:00  6380.0  6380.0  6375.0  6375.0   \n",
       "2                V1405  2014-01-06 09:03:00  6375.0  6380.0  6375.0  6380.0   \n",
       "3                V1405  2014-01-06 09:04:00  6380.0  6380.0  6375.0  6375.0   \n",
       "4                V1405  2014-01-06 09:05:00  6375.0  6375.0  6375.0  6375.0   \n",
       "...                ...                  ...     ...     ...     ...     ...   \n",
       "30032740         M2305  2022-12-30 14:56:00  3931.0  3934.0  3930.0  3930.0   \n",
       "30032741         M2305  2022-12-30 14:57:00  3930.0  3934.0  3930.0  3933.0   \n",
       "30032742         M2305  2022-12-30 14:58:00  3932.0  3938.0  3932.0  3936.0   \n",
       "30032743         M2305  2022-12-30 14:59:00  3937.0  3938.0  3932.0  3933.0   \n",
       "30032744         M2305  2022-12-30 15:00:00  3933.0  3940.0  3933.0  3936.0   \n",
       "\n",
       "          volume  open_interest trading_date future session  \n",
       "0          100.0        29968.0   2014-01-06      V     Day  \n",
       "1           58.0        29982.0   2014-01-06      V     Day  \n",
       "2           10.0        29982.0   2014-01-06      V     Day  \n",
       "3           40.0        30012.0   2014-01-06      V     Day  \n",
       "4           10.0        30016.0   2014-01-06      V     Day  \n",
       "...          ...            ...          ...    ...     ...  \n",
       "30032740  5741.0      1349591.0   2022-12-30      M     Day  \n",
       "30032741  3478.0      1349378.0   2022-12-30      M     Day  \n",
       "30032742  4894.0      1348904.0   2022-12-30      M     Day  \n",
       "30032743  6123.0      1348085.0   2022-12-30      M     Day  \n",
       "30032744  6815.0      1348032.0   2022-12-30      M     Day  \n",
       "\n",
       "[30032745 rows x 11 columns]"
      ]
     },
     "execution_count": 3,
     "metadata": {},
     "output_type": "execute_result"
    }
   ],
   "source": [
    "folder_path = '合约数据'\n",
    "csv_files = [f for f in os.listdir(folder_path) if f.endswith('.csv')]\n",
    "\n",
    "dataframes = []\n",
    "for file in csv_files:\n",
    "    file_path = os.path.join(folder_path, file)\n",
    "    df = pd.read_csv(file_path)\n",
    "    dataframes.append(df)\n",
    "\n",
    "df_futures = pd.concat(dataframes, ignore_index=True)\n",
    "df_futures"
   ]
  },
  {
   "cell_type": "markdown",
   "metadata": {},
   "source": [
    "## 量价相关性因子\n",
    "参考研报: 【东吴证券】“技术分析拥抱选股因子”系列研究（五）：CPV因子移位版，价量自相关性中蕴藏的选股信息"
   ]
  },
  {
   "cell_type": "code",
   "execution_count": 4,
   "metadata": {},
   "outputs": [],
   "source": [
    "def cal_corr_price_N_vol(df):\n",
    "    # 1min bar 的t时刻收盘价与t时刻成交量序列的相关系数\n",
    "    corr_price_N_vol = df['close'].corr(df['volume'])\n",
    "    return corr_price_N_vol\n",
    "\n",
    "def cal_corr_price_l1_N_vol(df):\n",
    "    # 1min bar 的t-1时刻收盘价与t时刻成交量序列的相关系数\n",
    "    corr_price_l1_N_vol = df['close'].shift(1).corr(df['volume'])\n",
    "    return corr_price_l1_N_vol\n",
    "\n",
    "def cal_corr_price_1_N_vol(df):\n",
    "    # 1min bar 的t+1时刻收盘价与t时刻成交量序列的相关系数\n",
    "    corr_price_1_N_vol = df['close'].shift(-1).corr(df['volume'])\n",
    "    return corr_price_1_N_vol\n",
    "\n",
    "def cal_corr_ret_N_vol(df):\n",
    "    # 1min bar 的t时刻1min收益率与t时刻成交量序列的相关系数\n",
    "    df['1min_ret'] = df['close'].pct_change(1)\n",
    "    corr_ret_N_vol = df['1min_ret'].corr(df['volume'])\n",
    "    return corr_ret_N_vol\n",
    "\n",
    "def cal_corr_ret_l1_N_vol(df):\n",
    "    # 1min bar 的t-1时刻1min收益率与t时刻成交量序列的相关系数\n",
    "    df['1min_ret'] = df['close'].pct_change(1)\n",
    "    corr_ret_l1_N_vol = df['1min_ret'].shift(1).corr(df['volume'])\n",
    "    return corr_ret_l1_N_vol\n",
    "\n",
    "def cal_corr_ret_1_N_vol(df):\n",
    "    # 1min bar 的t+1时刻1min收益率与t时刻成交量序列的相关系数\n",
    "    df['1min_ret'] = df['close'].pct_change(1)\n",
    "    corr_ret_1_N_vol = df['1min_ret'].shift(-1).corr(df['volume'])\n",
    "    return corr_ret_1_N_vol"
   ]
  },
  {
   "cell_type": "code",
   "execution_count": 5,
   "metadata": {},
   "outputs": [],
   "source": [
    "df_corr_price_N_vol = df_futures.groupby(['future','trading_date'],as_index=False,group_keys=False).apply(cal_corr_price_N_vol).rename(columns={None:'corr_price_N_vol'})\n",
    "df_corr_price_N_vol.pivot(index='trading_date',columns='future',values='corr_price_N_vol').to_csv(\"Factor_csv/CPV_corr_price_N_vol.csv\")"
   ]
  },
  {
   "cell_type": "code",
   "execution_count": 6,
   "metadata": {},
   "outputs": [],
   "source": [
    "df_corr_price_l1_N_vol = df_futures.groupby(['future','trading_date'],as_index=False,group_keys=False).apply(cal_corr_price_l1_N_vol).rename(columns={None:'corr_price_l1_N_vol'})\n",
    "df_corr_price_l1_N_vol.pivot(index='trading_date',columns='future',values='corr_price_l1_N_vol').to_csv(\"Factor_csv/CPV_corr_price_l1_N_vol.csv\")"
   ]
  },
  {
   "cell_type": "code",
   "execution_count": 7,
   "metadata": {},
   "outputs": [],
   "source": [
    "df_corr_price_1_N_vol = df_futures.groupby(['future','trading_date'],as_index=False,group_keys=False).apply(cal_corr_price_1_N_vol).rename(columns={None:'corr_price_1_N_vol'})\n",
    "df_corr_price_1_N_vol.pivot(index='trading_date',columns='future',values='corr_price_1_N_vol').to_csv(\"Factor_csv/CPV_corr_price_1_N_vol.csv\")"
   ]
  },
  {
   "cell_type": "code",
   "execution_count": 8,
   "metadata": {},
   "outputs": [],
   "source": [
    "df_corr_ret_N_vol = df_futures.groupby(['future','trading_date'],as_index=False,group_keys=False).apply(cal_corr_ret_N_vol).rename(columns={None:'corr_ret_N_vol'})\n",
    "df_corr_ret_N_vol.pivot(index='trading_date',columns='future',values='corr_ret_N_vol').to_csv(\"Factor_csv/CPV_corr_ret_N_vol.csv\")"
   ]
  },
  {
   "cell_type": "code",
   "execution_count": 9,
   "metadata": {},
   "outputs": [],
   "source": [
    "df_corr_ret_l1_N_vol = df_futures.groupby(['future','trading_date'],as_index=False,group_keys=False).apply(cal_corr_ret_l1_N_vol).rename(columns={None:'corr_ret_l1_N_vol'})\n",
    "df_corr_ret_l1_N_vol.pivot(index='trading_date',columns='future',values='corr_ret_l1_N_vol').to_csv(\"Factor_csv/CPV_corr_ret_l1_N_vol.csv\")"
   ]
  },
  {
   "cell_type": "code",
   "execution_count": 10,
   "metadata": {},
   "outputs": [],
   "source": [
    "df_corr_ret_1_N_vol = df_futures.groupby(['future','trading_date'],as_index=False,group_keys=False).apply(cal_corr_ret_1_N_vol).rename(columns={None:'corr_ret_1_N_vol'})\n",
    "df_corr_ret_1_N_vol.pivot(index='trading_date',columns='future',values='corr_ret_1_N_vol').to_csv(\"Factor_csv/CPV_corr_ret_1_N_vol.csv\")"
   ]
  },
  {
   "cell_type": "markdown",
   "metadata": {},
   "source": [
    "## 成交量潮汐因子\n",
    "参考研报：【方正证券】多因子选股系列研究之二：个股成交量的潮汐变化及“潮汐”因子构建"
   ]
  },
  {
   "cell_type": "code",
   "execution_count": 11,
   "metadata": {},
   "outputs": [],
   "source": [
    "def cal_tide(df,lenth):\n",
    "    df['neighbor_volume'] = df['volume'].rolling(window=lenth, center=True).sum()\n",
    "    df  = df.dropna()\n",
    "    \n",
    "    peak_idx = df['neighbor_volume'].idxmax()\n",
    "    peak_time = df.index.get_loc(peak_idx)\n",
    "    V_peak = df.loc[peak_idx, 'neighbor_volume']\n",
    "    C_peak = df.loc[peak_idx, 'close']\n",
    "    \n",
    "    flood_data = df[df.index < peak_idx]\n",
    "    if not flood_data.empty : \n",
    "        flood_idx = flood_data['neighbor_volume'].idxmin()\n",
    "        Vm = df.loc[flood_idx, 'neighbor_volume']\n",
    "        Cm = df.loc[flood_idx, 'close']\n",
    "        m = df.index.get_loc(flood_idx)\n",
    "    else:\n",
    "        Vm = V_peak\n",
    "        Cm = C_peak\n",
    "        m = peak_time\n",
    "\n",
    "    ebb_data = df[df.index > peak_idx]\n",
    "    if not ebb_data.empty:\n",
    "        ebb_idx = ebb_data['neighbor_volume'].idxmin()\n",
    "        Vn = df.loc[ebb_idx, 'neighbor_volume']\n",
    "        Cn = df.loc[ebb_idx, 'close']\n",
    "        n = df.index.get_loc(ebb_idx)\n",
    "    else:\n",
    "        Vn = V_peak\n",
    "        Cn = C_peak\n",
    "        n = peak_time\n",
    "    \n",
    "    whole_tide = (Cn-Cm)/Cm/(n-m)\n",
    "    flood_tide = (C_peak-Cm)/Cm/(peak_time-m)\n",
    "    ebb_tide = (Cn-C_peak)/C_peak/(n-peak_time)\n",
    "\n",
    "    return whole_tide, flood_tide, ebb_tide"
   ]
  },
  {
   "cell_type": "code",
   "execution_count": 12,
   "metadata": {},
   "outputs": [],
   "source": [
    "def cal_factor_1(df,lenth):\n",
    "\n",
    "    df = df.sort_index()\n",
    "\n",
    "    if len(df['session'].unique())>1:\n",
    "        df_night = df[df['session']=='Night']\n",
    "        df_day = df[df['session']=='Day']\n",
    "\n",
    "        night_whole_tide, night_flood_tide, night_ebb_tide = cal_tide(df_night,lenth)\n",
    "        day_whole_tide, day_flood_tide, day_ebb_tide = cal_tide(df_day,lenth)\n",
    "\n",
    "        whole_tide = (night_whole_tide + day_whole_tide)/2\n",
    "        flood_tide = (night_flood_tide + day_flood_tide)/2\n",
    "        ebb_tide = (night_ebb_tide + day_ebb_tide)/2\n",
    "    else:\n",
    "        whole_tide, flood_tide, ebb_tide = cal_tide(df,lenth)\n",
    "        night_whole_tide, day_whole_tide = np.nan, whole_tide\n",
    "\n",
    "\n",
    "    return pd.DataFrame([[night_whole_tide, day_whole_tide, whole_tide, flood_tide, ebb_tide]],\n",
    "                        columns=['night_whole_tide', 'day_whole_tide', 'whole_tide', 'flood_tide', 'ebb_tide'])\n"
   ]
  },
  {
   "cell_type": "code",
   "execution_count": 13,
   "metadata": {},
   "outputs": [
    {
     "name": "stdout",
     "output_type": "stream",
     "text": [
      "INFO: Pandarallel will run on 6 workers.\n",
      "INFO: Pandarallel will use standard multiprocessing data transfer (pipe) to transfer data between the main process and workers.\n"
     ]
    },
    {
     "data": {
      "application/vnd.jupyter.widget-view+json": {
       "model_id": "11856277ff694676984e35859e079fc7",
       "version_major": 2,
       "version_minor": 0
      },
      "text/plain": [
       "VBox(children=(HBox(children=(IntProgress(value=0, description='0.00%', max=14219), Label(value='0 / 14219')))…"
      ]
     },
     "metadata": {},
     "output_type": "display_data"
    },
    {
     "data": {
      "application/vnd.jupyter.widget-view+json": {
       "model_id": "48c0c5b743914e25b07804b0d936da19",
       "version_major": 2,
       "version_minor": 0
      },
      "text/plain": [
       "VBox(children=(HBox(children=(IntProgress(value=0, description='0.00%', max=14219), Label(value='0 / 14219')))…"
      ]
     },
     "metadata": {},
     "output_type": "display_data"
    },
    {
     "data": {
      "application/vnd.jupyter.widget-view+json": {
       "model_id": "ebf0dd92c228444087fee6d2039108d1",
       "version_major": 2,
       "version_minor": 0
      },
      "text/plain": [
       "VBox(children=(HBox(children=(IntProgress(value=0, description='0.00%', max=14219), Label(value='0 / 14219')))…"
      ]
     },
     "metadata": {},
     "output_type": "display_data"
    },
    {
     "data": {
      "application/vnd.jupyter.widget-view+json": {
       "model_id": "3c67b67d2b2f4f25aa531c391523acc3",
       "version_major": 2,
       "version_minor": 0
      },
      "text/plain": [
       "VBox(children=(HBox(children=(IntProgress(value=0, description='0.00%', max=14219), Label(value='0 / 14219')))…"
      ]
     },
     "metadata": {},
     "output_type": "display_data"
    }
   ],
   "source": [
    "from pandarallel import pandarallel\n",
    "pandarallel.initialize(nb_workers=6,progress_bar=True)\n",
    "\n",
    "df_daily_factor_1 = df_futures.groupby(['future','trading_date']).parallel_apply(cal_factor_1,9).reset_index(level=2,drop=True).reset_index()\n",
    "df_daily_factor_2 = df_futures.groupby(['future','trading_date']).parallel_apply(cal_factor_1,7).reset_index(level=2,drop=True).reset_index()\n",
    "df_daily_factor_3 = df_futures.groupby(['future','trading_date']).parallel_apply(cal_factor_1,5).reset_index(level=2,drop=True).reset_index()\n",
    "df_daily_factor_4 = df_futures.groupby(['future','trading_date']).parallel_apply(cal_factor_1,3).reset_index(level=2,drop=True).reset_index()"
   ]
  },
  {
   "cell_type": "code",
   "execution_count": 14,
   "metadata": {},
   "outputs": [],
   "source": [
    "df_daily_factor_1.pivot(index='trading_date',columns='future',values='whole_tide').to_csv(\"Factor_csv/Whole_tide_9.csv\")\n",
    "df_daily_factor_2.pivot(index='trading_date',columns='future',values='whole_tide').to_csv(\"Factor_csv/Whole_tide_7.csv\")\n",
    "df_daily_factor_3.pivot(index='trading_date',columns='future',values='whole_tide').to_csv(\"Factor_csv/Whole_tide_5.csv\")\n",
    "df_daily_factor_4.pivot(index='trading_date',columns='future',values='whole_tide').to_csv(\"Factor_csv/Whole_tide_3.csv\")"
   ]
  },
  {
   "cell_type": "markdown",
   "metadata": {},
   "source": [
    "## 成交量激增时段的跳跃因子"
   ]
  },
  {
   "cell_type": "code",
   "execution_count": 15,
   "metadata": {},
   "outputs": [],
   "source": [
    "def cal_factor_ret_res(df):\n",
    "\n",
    "    df = df.sort_index()\n",
    "\n",
    "    df['1min_ret'] = df['close'].pct_change()\n",
    "    df['1min_log_ret'] = np.log(df['close'] / df['close'].shift(1))\n",
    "\n",
    "    df = df.fillna(0)\n",
    "\n",
    "    df['diff_ret'] = df['1min_ret'] - df['1min_log_ret']\n",
    "    df['ret_res'] = df['diff_ret']*2 - df['1min_log_ret']**2\n",
    "\n",
    "    top10_mean_ret_res = df.nlargest(int(np.ceil(len(df)/10)),'volume')['ret_res'].mean()\n",
    "    top20_mean_ret_res = df.nlargest(int(np.ceil(len(df)/5)),'volume')['ret_res'].mean()\n",
    "    mean_ret_res = df['ret_res'].mean()\n",
    "\n",
    "    bot90_mean_ret_res = df.nsmallest((len(df) - int(np.ceil(len(df)/10))),'volume')['ret_res'].mean()\n",
    "    bot10_mean_ret_res = df.nsmallest(int(np.ceil(len(df)/10)),'volume')['ret_res'].mean()\n",
    "    Diff_10_mean_ret_res = top10_mean_ret_res - mean_ret_res\n",
    "    Diff_10_20_ret_res = top10_mean_ret_res - top20_mean_ret_res\n",
    "    Diff_top10_bot90 = top10_mean_ret_res - bot90_mean_ret_res\n",
    "\n",
    "    return pd.DataFrame(\n",
    "        [[mean_ret_res,top10_mean_ret_res,top20_mean_ret_res,Diff_10_mean_ret_res,Diff_10_20_ret_res,Diff_top10_bot90]],\n",
    "        columns = ['mean_ret_res','top10_mean_ret_res','top20_mean_ret_res','Diff_10_mean_ret_res','Diff_10_20_ret_res','Diff_top10_bot90']\n",
    "    )"
   ]
  },
  {
   "cell_type": "code",
   "execution_count": 16,
   "metadata": {},
   "outputs": [
    {
     "data": {
      "application/vnd.jupyter.widget-view+json": {
       "model_id": "f96030a8d5094957837dbc9affd5c912",
       "version_major": 2,
       "version_minor": 0
      },
      "text/plain": [
       "VBox(children=(HBox(children=(IntProgress(value=0, description='0.00%', max=14219), Label(value='0 / 14219')))…"
      ]
     },
     "metadata": {},
     "output_type": "display_data"
    }
   ],
   "source": [
    "df_daily_ret_res = df_futures.groupby(['future','trading_date']).parallel_apply(cal_factor_ret_res).reset_index(level=2,drop=True).reset_index()"
   ]
  },
  {
   "cell_type": "code",
   "execution_count": 17,
   "metadata": {},
   "outputs": [],
   "source": [
    "df_daily_ret_res.pivot(index='trading_date',columns='future',values='mean_ret_res').to_csv(\"Factor_csv/Mean_ret_res.csv\")\n",
    "df_daily_ret_res.pivot(index='trading_date',columns='future',values='top10_mean_ret_res').to_csv(\"Factor_csv/Top10_mean_ret_res.csv\")\n",
    "df_daily_ret_res.pivot(index='trading_date',columns='future',values='top20_mean_ret_res').to_csv(\"Factor_csv/Top20_mean_ret_res.csv\")\n",
    "df_daily_ret_res.pivot(index='trading_date',columns='future',values='Diff_10_mean_ret_res').to_csv(\"Factor_csv/Diff_10_mean_ret_res.csv\")\n",
    "df_daily_ret_res.pivot(index='trading_date',columns='future',values='Diff_10_20_ret_res').to_csv(\"Factor_csv/Diff_10_20_ret_res.csv\")\n",
    "df_daily_ret_res.pivot(index='trading_date',columns='future',values='Diff_top10_bot90').to_csv(\"Factor_csv/Diff_top10_bot90.csv\")"
   ]
  },
  {
   "cell_type": "markdown",
   "metadata": {},
   "source": [
    "## 极端收益因子\n"
   ]
  },
  {
   "cell_type": "code",
   "execution_count": 18,
   "metadata": {},
   "outputs": [],
   "source": [
    "def cal_ext_ret(df):\n",
    "    \n",
    "    df['1min_ret'] = df['close'].pct_change().fillna(0)\n",
    "    max_1min_ret = df['1min_ret'].max()\n",
    "    min_1min_ret = df['1min_ret'].min()\n",
    "    if abs(max_1min_ret) > abs(min_1min_ret):\n",
    "        ext_ret = max_1min_ret\n",
    "    else:\n",
    "        ext_ret = min_1min_ret\n",
    "    \n",
    "    return ext_ret"
   ]
  },
  {
   "cell_type": "code",
   "execution_count": 19,
   "metadata": {},
   "outputs": [],
   "source": [
    "df_ext_ret = df_futures.groupby(['future','trading_date'],as_index=False,group_keys=False).apply(cal_ext_ret).rename(columns={None:'ext_ret'})\n",
    "df_ext_ret.pivot(index='trading_date',columns='future',values='ext_ret').to_csv(\"Factor_csv/ext_ret.csv\")"
   ]
  },
  {
   "cell_type": "markdown",
   "metadata": {},
   "source": []
  }
 ],
 "metadata": {
  "kernelspec": {
   "display_name": "tf",
   "language": "python",
   "name": "python3"
  },
  "language_info": {
   "codemirror_mode": {
    "name": "ipython",
    "version": 3
   },
   "file_extension": ".py",
   "mimetype": "text/x-python",
   "name": "python",
   "nbconvert_exporter": "python",
   "pygments_lexer": "ipython3",
   "version": "3.9.19"
  }
 },
 "nbformat": 4,
 "nbformat_minor": 2
}
